{
  "cells": [
    {
      "cell_type": "markdown",
      "source": [],
      "metadata": {
        "id": "ELhriDntf-Cm"
      }
    },
    {
      "cell_type": "code",
      "execution_count": null,
      "metadata": {
        "colab": {
          "background_save": true,
          "base_uri": "https://localhost:8080/"
        },
        "id": "wmLPJzITUujp",
        "outputId": "c19b1925-df44-411b-da65-4b4a671fe075"
      },
      "outputs": [
        {
          "name": "stdout",
          "output_type": "stream",
          "text": [
            "Welcome to Guess the Number Game (User Version)!\n",
            "Apne dimag mein 1 se 100 ke beech mein ek number choose karo. Computer use guess karega.\n"
          ]
        }
      ],
      "source": [
        "# Guess the Number Game (User) - Google Colab Version\n",
        "\n",
        "import random\n",
        "\n",
        "def computer_guess_number():\n",
        "    print(\"h to Guess the Number Game (User Version)!\")\n",
        "    print(\"Apne dimag mein 1 se 100 ke beech mein ek number choose karo. Computer use guess karega.\")\n",
        "\n",
        "    # Step 1: User se range aur feedback lena\n",
        "    low = 1\n",
        "    high = 100\n",
        "    feedback = ''\n",
        "    attempts = 0  # Computer ke attempts count karne ke liye\n",
        "\n",
        "    # Step 2: Computer ko guess karne ke liye loop\n",
        "    while feedback != 'c':  # 'c' matlab correct guess\n",
        "        if low != high:\n",
        "            computer_guess = random.randint(low, high)\n",
        "        else:\n",
        "            computer_guess = low  # Jab low aur high same ho jaaye\n",
        "\n",
        "        # Step 3: User se feedback lena\n",
        "        feedback = input(f\"Kya {computer_guess} sahi hai? (Bada: 'b', Chhota: 's', Sahi: 'c'): \").lower()\n",
        "        attempts += 1  # Har attempt ko count karo\n",
        "\n",
        "        # Step 4: Feedback ke hisab se range update karna\n",
        "        if feedback == 'b':\n",
        "            high = computer_guess - 1  # Guess bada hai, toh upper range kam karo\n",
        "        elif feedback == 's':\n",
        "            low = computer_guess + 1  # Guess chhota hai, toh lower range badhao\n",
        "        elif feedback == 'c':\n",
        "            print(f\"Computer ne sahi number {computer_guess} guess kiya hai!\")\n",
        "            print(f\"Computer ne total {attempts} attempts liye.\")\n",
        "        else:\n",
        "            print(\"Invalid input! Sirf 'b', 's', ya 'c' daaliye.\")\n",
        "\n",
        "# Game start karo\n",
        "computer_guess_number()"
      ]
    },
    {
      "cell_type": "code",
      "source": [
        "from google.colab import drive\n",
        "drive.mount('/content/drive')"
      ],
      "metadata": {
        "id": "PgXInIERgMta"
      },
      "execution_count": null,
      "outputs": []
    }
  ],
  "metadata": {
    "colab": {
      "provenance": []
    },
    "kernelspec": {
      "display_name": "Python 3",
      "name": "python3"
    },
    "language_info": {
      "name": "python"
    }
  },
  "nbformat": 4,
  "nbformat_minor": 0
}