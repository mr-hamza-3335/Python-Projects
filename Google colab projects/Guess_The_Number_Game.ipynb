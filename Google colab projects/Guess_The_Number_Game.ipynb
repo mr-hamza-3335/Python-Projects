{
  "cells": [
    {
      "cell_type": "code",
      "execution_count": null,
      "metadata": {
        "colab": {
          "background_save": true,
          "base_uri": "https://localhost:8080/"
        },
        "id": "MVsTBWTKpHd0",
        "outputId": "422b0974-04d8-449c-c120-96eec529f535"
      },
      "outputs": [
        {
          "name": "stdout",
          "output_type": "stream",
          "text": [
            "Welcome to Guess the Number Game!\n",
            "Computer ne 1 se 100 ke beech mein ek number choose kiya hai. Guess karo!\n",
            "Apka guess chhota hai. Dobara try karo!\n",
            "Aapke paas abhi 6 attempts bache hain.\n",
            "Apka guess chhota hai. Dobara try karo!\n",
            "Aapke paas abhi 5 attempts bache hain.\n"
          ]
        }
      ],
      "source": [
        "# Guess the Number Game (Computer) - Google Colab Version\n",
        "\n",
        "import random\n",
        "\n",
        "def guess_the_number():\n",
        "    print(\"Welcome to Guess the Number Game!\")\n",
        "    print(\"Computer ne 1 se 100 ke beech mein ek number choose kiya hai. Guess karo!\")\n",
        "\n",
        "    # Step 1: Computer ek random number choose karega\n",
        "    number_to_guess = random.randint(1, 100)\n",
        "    max_attempts = 7  # Maximum attempts\n",
        "    attempts = 0  # User ke attempts count karne ke liye\n",
        "\n",
        "    # Step 2: User ko guess karne ke liye loop\n",
        "    while attempts < max_attempts:\n",
        "        try:\n",
        "            user_guess = int(input(f\"Apna guess daaliye (1 se 100): \"))\n",
        "            attempts += 1  # Har attempt ko count karo\n",
        "\n",
        "            # Step 3: Check karo ki guess sahi hai ya nahi\n",
        "            if user_guess < number_to_guess:\n",
        "                print(\"Apka guess chhota hai. Dobara try karo!\")\n",
        "            elif user_guess > number_to_guess:\n",
        "                print(\"Apka guess bada hai. Dobara try karo!\")\n",
        "            else:\n",
        "                print(f\"Badhai ho! Aapne sahi number {number_to_guess} guess kiya hai!\")\n",
        "                print(f\"Aapne total {attempts} attempts liye.\")\n",
        "                break  # Game khatam karo\n",
        "\n",
        "            # Remaining attempts batayein\n",
        "            print(f\"Aapke paas abhi {max_attempts - attempts} attempts bache hain.\")\n",
        "\n",
        "        except ValueError:\n",
        "            print(\"Invalid input! Sirf numbers daaliye.\")\n",
        "\n",
        "    # Agar user sahi number guess nahi kar paya\n",
        "    if attempts >= max_attempts:\n",
        "        print(f\"Game over! Sahi number tha: {number_to_guess}.\")\n",
        "\n",
        "    # Play again ka option\n",
        "    play_again = input(\"Kya aap dobara khelna chahte hain? (haan/na): \").lower()\n",
        "    if play_again == \"haan\":\n",
        "        guess_the_number()\n",
        "    else:\n",
        "        print(\"Dhanyavaad! Khelne ke liye.\")\n",
        "\n",
        "# Game start karo\n",
        "guess_the_number()"
      ]
    }
  ],
  "metadata": {
    "colab": {
      "provenance": []
    },
    "kernelspec": {
      "display_name": "Python 3",
      "name": "python3"
    },
    "language_info": {
      "name": "python"
    }
  },
  "nbformat": 4,
  "nbformat_minor": 0
}