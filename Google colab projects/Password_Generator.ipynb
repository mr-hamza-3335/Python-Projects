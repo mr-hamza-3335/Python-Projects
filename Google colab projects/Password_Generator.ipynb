{
  "nbformat": 4,
  "nbformat_minor": 0,
  "metadata": {
    "colab": {
      "provenance": []
    },
    "kernelspec": {
      "name": "python3",
      "display_name": "Python 3"
    },
    "language_info": {
      "name": "python"
    }
  },
  "cells": [
    {
      "cell_type": "code",
      "source": [
        "# Password Generator with Extra Features - Google Colab Version\n",
        "\n",
        "import random\n",
        "import string\n",
        "import pyperclip  # For copying to clipboard\n",
        "\n",
        "def generate_password(length, use_letters=True, use_numbers=True, use_special_chars=True):\n",
        "    # Define characters based on user requirements\n",
        "    characters = \"\"\n",
        "    if use_letters:\n",
        "        characters += string.ascii_letters\n",
        "    if use_numbers:\n",
        "        characters += string.digits\n",
        "    if use_special_chars:\n",
        "        characters += string.punctuation\n",
        "\n",
        "    # Check if at least one character set is selected\n",
        "    if not characters:\n",
        "        return \"Invalid options! Please select at least one character type.\"\n",
        "\n",
        "    # Generate a random password\n",
        "    password = ''.join(random.choice(characters) for _ in range(length))\n",
        "    return password\n",
        "\n",
        "def check_password_strength(password):\n",
        "    # Check password strength based on length and character types\n",
        "    strength = 0\n",
        "    if len(password) >= 12:\n",
        "        strength += 1\n",
        "    if any(char in string.ascii_uppercase for char in password):\n",
        "        strength += 1\n",
        "    if any(char in string.ascii_lowercase for char in password):\n",
        "        strength += 1\n",
        "    if any(char in string.digits for char in password):\n",
        "        strength += 1\n",
        "    if any(char in string.punctuation for char in password):\n",
        "        strength += 1\n",
        "\n",
        "    if strength >= 4:\n",
        "        return \"Strong\"\n",
        "    elif strength >= 2:\n",
        "        return \"Medium\"\n",
        "    else:\n",
        "        return \"Weak\"\n",
        "\n",
        "def password_generator():\n",
        "    print(\"Welcome to the Advanced Password Generator!\")\n",
        "\n",
        "    # Step 1: User se input lena\n",
        "    try:\n",
        "        num_passwords = int(input(\"Kitne passwords generate karne hain? \"))\n",
        "        password_length = int(input(\"Har password ki length kitni ho? \"))\n",
        "    except ValueError:\n",
        "        print(\"Invalid input! Please enter valid numbers.\")\n",
        "        return\n",
        "\n",
        "    # Step 2: Password requirements\n",
        "    print(\"\\nPassword requirements:\")\n",
        "    use_letters = input(\"Include letters? (haan/na): \").strip().lower() == \"haan\"\n",
        "    use_numbers = input(\"Include numbers? (haan/na): \").strip().lower() == \"haan\"\n",
        "    use_special_chars = input(\"Include special characters? (haan/na): \").strip().lower() == \"haan\"\n",
        "\n",
        "    # Step 3: Passwords generate karna\n",
        "    print(\"\\nGenerated Passwords:\")\n",
        "    passwords = []\n",
        "    for i in range(num_passwords):\n",
        "        password = generate_password(password_length, use_letters, use_numbers, use_special_chars)\n",
        "        strength = check_password_strength(password)\n",
        "        print(f\"Password {i + 1}: {password} (Strength: {strength})\")\n",
        "        passwords.append(password)\n",
        "\n",
        "    # Step 4: Copy to clipboard option\n",
        "    copy_option = input(\"\\nKya aap passwords ko clipboard par copy karna chahte hain? (haan/na): \").strip().lower()\n",
        "    if copy_option == \"haan\":\n",
        "        pyperclip.copy(\"\\n\".join(passwords))\n",
        "        print(\"Passwords clipboard par copy ho gaye hain!\")\n",
        "\n",
        "# Start the password generator\n",
        "password_generator()"
      ],
      "metadata": {
        "colab": {
          "base_uri": "https://localhost:8080/",
          "height": 669
        },
        "id": "Xd2XSSm4l8e9",
        "outputId": "959a72a1-7664-4c8a-ab47-539b7cb3d517"
      },
      "execution_count": null,
      "outputs": [
        {
          "name": "stdout",
          "output_type": "stream",
          "text": [
            "Welcome to the Advanced Password Generator!\n",
            "Kitne passwords generate karne hain? 4\n",
            "Har password ki length kitni ho? 8\n",
            "\n",
            "Password requirements:\n",
            "Include letters? (haan/na): haan\n",
            "Include numbers? (haan/na): haan\n",
            "Include special characters? (haan/na): one\n",
            "\n",
            "Generated Passwords:\n",
            "Password 1: wXEKbtDI (Strength: Medium)\n",
            "Password 2: AmmwQgs3 (Strength: Medium)\n",
            "Password 3: MA9p2Yba (Strength: Medium)\n",
            "Password 4: vOwaSzGz (Strength: Medium)\n",
            "\n",
            "Kya aap passwords ko clipboard par copy karna chahte hain? (haan/na): haan\n"
          ]
        },
        {
          "output_type": "error",
          "ename": "PyperclipException",
          "evalue": "Pyperclip could not find a copy/paste mechanism for your system. For more information, please visit https://pyperclip.readthedocs.io/en/latest/index.html#not-implemented-error\nOn Linux, you can run `sudo apt-get install xclip` or `sudo apt-get install xselect` to install a copy/paste mechanism.",
          "traceback": [
            "\u001b[0;31m---------------------------------------------------------------------------\u001b[0m",
            "\u001b[0;31mPyperclipException\u001b[0m                        Traceback (most recent call last)",
            "\u001b[0;32m<ipython-input-2-5bec0871d663>\u001b[0m in \u001b[0;36m<cell line: 0>\u001b[0;34m()\u001b[0m\n\u001b[1;32m     77\u001b[0m \u001b[0;34m\u001b[0m\u001b[0m\n\u001b[1;32m     78\u001b[0m \u001b[0;31m# Start the password generator\u001b[0m\u001b[0;34m\u001b[0m\u001b[0;34m\u001b[0m\u001b[0m\n\u001b[0;32m---> 79\u001b[0;31m \u001b[0mpassword_generator\u001b[0m\u001b[0;34m(\u001b[0m\u001b[0;34m)\u001b[0m\u001b[0;34m\u001b[0m\u001b[0;34m\u001b[0m\u001b[0m\n\u001b[0m",
            "\u001b[0;32m<ipython-input-2-5bec0871d663>\u001b[0m in \u001b[0;36mpassword_generator\u001b[0;34m()\u001b[0m\n\u001b[1;32m     73\u001b[0m     \u001b[0mcopy_option\u001b[0m \u001b[0;34m=\u001b[0m \u001b[0minput\u001b[0m\u001b[0;34m(\u001b[0m\u001b[0;34m\"\\nKya aap passwords ko clipboard par copy karna chahte hain? (haan/na): \"\u001b[0m\u001b[0;34m)\u001b[0m\u001b[0;34m.\u001b[0m\u001b[0mstrip\u001b[0m\u001b[0;34m(\u001b[0m\u001b[0;34m)\u001b[0m\u001b[0;34m.\u001b[0m\u001b[0mlower\u001b[0m\u001b[0;34m(\u001b[0m\u001b[0;34m)\u001b[0m\u001b[0;34m\u001b[0m\u001b[0;34m\u001b[0m\u001b[0m\n\u001b[1;32m     74\u001b[0m     \u001b[0;32mif\u001b[0m \u001b[0mcopy_option\u001b[0m \u001b[0;34m==\u001b[0m \u001b[0;34m\"haan\"\u001b[0m\u001b[0;34m:\u001b[0m\u001b[0;34m\u001b[0m\u001b[0;34m\u001b[0m\u001b[0m\n\u001b[0;32m---> 75\u001b[0;31m         \u001b[0mpyperclip\u001b[0m\u001b[0;34m.\u001b[0m\u001b[0mcopy\u001b[0m\u001b[0;34m(\u001b[0m\u001b[0;34m\"\\n\"\u001b[0m\u001b[0;34m.\u001b[0m\u001b[0mjoin\u001b[0m\u001b[0;34m(\u001b[0m\u001b[0mpasswords\u001b[0m\u001b[0;34m)\u001b[0m\u001b[0;34m)\u001b[0m\u001b[0;34m\u001b[0m\u001b[0;34m\u001b[0m\u001b[0m\n\u001b[0m\u001b[1;32m     76\u001b[0m         \u001b[0mprint\u001b[0m\u001b[0;34m(\u001b[0m\u001b[0;34m\"Passwords clipboard par copy ho gaye hain!\"\u001b[0m\u001b[0;34m)\u001b[0m\u001b[0;34m\u001b[0m\u001b[0;34m\u001b[0m\u001b[0m\n\u001b[1;32m     77\u001b[0m \u001b[0;34m\u001b[0m\u001b[0m\n",
            "\u001b[0;32m/usr/local/lib/python3.11/dist-packages/pyperclip/__init__.py\u001b[0m in \u001b[0;36mlazy_load_stub_copy\u001b[0;34m(text)\u001b[0m\n\u001b[1;32m    620\u001b[0m     \u001b[0;32mglobal\u001b[0m \u001b[0mcopy\u001b[0m\u001b[0;34m,\u001b[0m \u001b[0mpaste\u001b[0m\u001b[0;34m\u001b[0m\u001b[0;34m\u001b[0m\u001b[0m\n\u001b[1;32m    621\u001b[0m     \u001b[0mcopy\u001b[0m\u001b[0;34m,\u001b[0m \u001b[0mpaste\u001b[0m \u001b[0;34m=\u001b[0m \u001b[0mdetermine_clipboard\u001b[0m\u001b[0;34m(\u001b[0m\u001b[0;34m)\u001b[0m\u001b[0;34m\u001b[0m\u001b[0;34m\u001b[0m\u001b[0m\n\u001b[0;32m--> 622\u001b[0;31m     \u001b[0;32mreturn\u001b[0m \u001b[0mcopy\u001b[0m\u001b[0;34m(\u001b[0m\u001b[0mtext\u001b[0m\u001b[0;34m)\u001b[0m\u001b[0;34m\u001b[0m\u001b[0;34m\u001b[0m\u001b[0m\n\u001b[0m\u001b[1;32m    623\u001b[0m \u001b[0;34m\u001b[0m\u001b[0m\n\u001b[1;32m    624\u001b[0m \u001b[0;34m\u001b[0m\u001b[0m\n",
            "\u001b[0;32m/usr/local/lib/python3.11/dist-packages/pyperclip/__init__.py\u001b[0m in \u001b[0;36m__call__\u001b[0;34m(self, *args, **kwargs)\u001b[0m\n\u001b[1;32m    293\u001b[0m             \u001b[0;32mif\u001b[0m \u001b[0msys\u001b[0m\u001b[0;34m.\u001b[0m\u001b[0mplatform\u001b[0m \u001b[0;34m==\u001b[0m \u001b[0;34m'linux'\u001b[0m\u001b[0;34m:\u001b[0m\u001b[0;34m\u001b[0m\u001b[0;34m\u001b[0m\u001b[0m\n\u001b[1;32m    294\u001b[0m                 \u001b[0madditionalInfo\u001b[0m \u001b[0;34m=\u001b[0m \u001b[0;34m'\\nOn Linux, you can run `sudo apt-get install xclip` or `sudo apt-get install xselect` to install a copy/paste mechanism.'\u001b[0m\u001b[0;34m\u001b[0m\u001b[0;34m\u001b[0m\u001b[0m\n\u001b[0;32m--> 295\u001b[0;31m             \u001b[0;32mraise\u001b[0m \u001b[0mPyperclipException\u001b[0m\u001b[0;34m(\u001b[0m\u001b[0;34m'Pyperclip could not find a copy/paste mechanism for your system. For more information, please visit https://pyperclip.readthedocs.io/en/latest/index.html#not-implemented-error'\u001b[0m \u001b[0;34m+\u001b[0m \u001b[0madditionalInfo\u001b[0m\u001b[0;34m)\u001b[0m\u001b[0;34m\u001b[0m\u001b[0;34m\u001b[0m\u001b[0m\n\u001b[0m\u001b[1;32m    296\u001b[0m \u001b[0;34m\u001b[0m\u001b[0m\n\u001b[1;32m    297\u001b[0m         \u001b[0;32mif\u001b[0m \u001b[0m_IS_RUNNING_PYTHON_2\u001b[0m\u001b[0;34m:\u001b[0m\u001b[0;34m\u001b[0m\u001b[0;34m\u001b[0m\u001b[0m\n",
            "\u001b[0;31mPyperclipException\u001b[0m: Pyperclip could not find a copy/paste mechanism for your system. For more information, please visit https://pyperclip.readthedocs.io/en/latest/index.html#not-implemented-error\nOn Linux, you can run `sudo apt-get install xclip` or `sudo apt-get install xselect` to install a copy/paste mechanism."
          ]
        }
      ]
    }
  ]
}