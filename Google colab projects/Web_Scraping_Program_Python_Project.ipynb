{
  "nbformat": 4,
  "nbformat_minor": 0,
  "metadata": {
    "colab": {
      "provenance": []
    },
    "kernelspec": {
      "name": "python3",
      "display_name": "Python 3"
    },
    "language_info": {
      "name": "python"
    }
  },
  "cells": [
    {
      "cell_type": "code",
      "source": [
        "# Step 1: Install Required Libraries\n",
        "!pip install beautifulsoup4 requests\n",
        "\n",
        "# Step 2: Import Libraries\n",
        "import requests\n",
        "from bs4 import BeautifulSoup\n",
        "from IPython.display import Image, display\n",
        "import os\n",
        "\n",
        "# Step 3: Input GitHub Profile URL\n",
        "profile_url = input(\"🔗 Enter GitHub Profile URL (e.g. https://github.com/hamzaonair): \")\n",
        "\n",
        "# Step 4: Fetch Profile Page\n",
        "response = requests.get(profile_url)\n",
        "\n",
        "if response.status_code == 200:\n",
        "    print(\"✅ Page fetched successfully.\\n\")\n",
        "    soup = BeautifulSoup(response.text, 'html.parser')\n",
        "\n",
        "    # Get Username\n",
        "    username_tag = soup.find('span', {'class': 'p-nickname'})\n",
        "    username = username_tag.text.strip() if username_tag else \"N/A\"\n",
        "\n",
        "    # Get Bio\n",
        "    bio_tag = soup.find('div', {'class': 'p-note'})\n",
        "    bio = bio_tag.text.strip() if bio_tag else \"N/A\"\n",
        "\n",
        "    # Get Followers\n",
        "    followers_tag = soup.find('a', href=f'{profile_url.replace(\"https://github.com\", \"\")}?tab=followers')\n",
        "    followers = followers_tag.find('span').text.strip() if followers_tag else \"N/A\"\n",
        "\n",
        "    # Get Following\n",
        "    following_tag = soup.find('a', href=f'{profile_url.replace(\"https://github.com\", \"\")}?tab=following')\n",
        "    following = following_tag.find('span').text.strip() if following_tag else \"N/A\"\n",
        "\n",
        "    # Get Repositories Count\n",
        "    repo_tag = soup.find('span', {'class': 'Counter'})\n",
        "    repo_count = repo_tag.text.strip() if repo_tag else \"N/A\"\n",
        "\n",
        "    # Get Profile Image URL\n",
        "    profile_image = soup.find('img', {'alt': 'Avatar'})\n",
        "    image_url = profile_image['src'] if profile_image else \"N/A\"\n",
        "\n",
        "    # Display Results\n",
        "    print(f\"👤 Username: {username}\")\n",
        "    print(f\"📝 Bio: {bio}\")\n",
        "    print(f\"👥 Followers: {followers}\")\n",
        "    print(f\"➡️ Following: {following}\")\n",
        "    print(f\"📦 Public Repositories: {repo_count}\")\n",
        "    print(f\"🖼 Profile Image URL: {image_url}\")\n",
        "\n",
        "    # Download and Show Image\n",
        "    if image_url != \"N/A\":\n",
        "        image_data = requests.get(image_url).content\n",
        "        with open(\"profile_image.jpg\", \"wb\") as f:\n",
        "            f.write(image_data)\n",
        "        display(Image(\"profile_image.jpg\"))\n",
        "\n",
        "else:\n",
        "    print(\"❌ Failed to fetch the profile page. Check the URL.\")\n"
      ],
      "metadata": {
        "colab": {
          "base_uri": "https://localhost:8080/"
        },
        "id": "Ezchs6Y0YwP_",
        "outputId": "3bf0f3ce-3a33-4c06-8376-799889ec0d9e"
      },
      "execution_count": 6,
      "outputs": [
        {
          "output_type": "stream",
          "name": "stdout",
          "text": [
            "Requirement already satisfied: beautifulsoup4 in /usr/local/lib/python3.11/dist-packages (4.13.3)\n",
            "Requirement already satisfied: requests in /usr/local/lib/python3.11/dist-packages (2.32.3)\n",
            "Requirement already satisfied: soupsieve>1.2 in /usr/local/lib/python3.11/dist-packages (from beautifulsoup4) (2.6)\n",
            "Requirement already satisfied: typing-extensions>=4.0.0 in /usr/local/lib/python3.11/dist-packages (from beautifulsoup4) (4.12.2)\n",
            "Requirement already satisfied: charset-normalizer<4,>=2 in /usr/local/lib/python3.11/dist-packages (from requests) (3.4.1)\n",
            "Requirement already satisfied: idna<4,>=2.5 in /usr/local/lib/python3.11/dist-packages (from requests) (3.10)\n",
            "Requirement already satisfied: urllib3<3,>=1.21.1 in /usr/local/lib/python3.11/dist-packages (from requests) (2.3.0)\n",
            "Requirement already satisfied: certifi>=2017.4.17 in /usr/local/lib/python3.11/dist-packages (from requests) (2025.1.31)\n",
            "🔗 Enter GitHub Profile URL (e.g. https://github.com/hamzaonair): https://github.com/ziaukhan\n",
            "✅ Page fetched successfully.\n",
            "\n",
            "👤 Username: ziaukhan\n",
            "📝 Bio: Agentic AI Architect and Social Entrepreneur\n",
            "👥 Followers: N/A\n",
            "➡️ Following: N/A\n",
            "📦 Public Repositories: 18\n",
            "🖼 Profile Image URL: N/A\n"
          ]
        }
      ]
    }
  ]
}