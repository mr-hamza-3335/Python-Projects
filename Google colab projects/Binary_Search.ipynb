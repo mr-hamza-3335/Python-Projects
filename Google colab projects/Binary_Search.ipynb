{
  "nbformat": 4,
  "nbformat_minor": 0,
  "metadata": {
    "colab": {
      "provenance": [],
      "gpuType": "T4"
    },
    "kernelspec": {
      "name": "python3",
      "display_name": "Python 3"
    },
    "language_info": {
      "name": "python"
    },
    "accelerator": "GPU"
  },
  "cells": [
    {
      "cell_type": "code",
      "source": [
        "# Python Project: List Index & Data Type Detector\n",
        "# Governor House IT Course Project | Made Easy by HamzaOnAir\n",
        "\n",
        "# Step 1: User Input\n",
        "user_input = input(\"Enter values separated by space: \")\n",
        "\n",
        "# Step 2: Split input into list\n",
        "data_list = user_input.split()\n",
        "\n",
        "# Step 3: Loop through list and display index, value and type\n",
        "print(\"\\n--- List Elements with Index and Data Type ---\\n\")\n",
        "\n",
        "for i in range(len(data_list)):\n",
        "    item = data_list[i]\n",
        "\n",
        "    # Check if item is int\n",
        "    try:\n",
        "        item = int(item)\n",
        "        dtype = \"int\"\n",
        "    except ValueError:\n",
        "        # Check if item is float\n",
        "        try:\n",
        "            item = float(item)\n",
        "            dtype = \"float\"\n",
        "        except ValueError:\n",
        "            dtype = \"str\"\n",
        "\n",
        "    print(f\"Index {i}: Value = {item}   |   Data Type = {dtype}\")\n"
      ],
      "metadata": {
        "colab": {
          "base_uri": "https://localhost:8080/"
        },
        "id": "sVL1H0VizDXw",
        "outputId": "1f007027-5608-48d3-f496-32a99b501d21"
      },
      "execution_count": 10,
      "outputs": [
        {
          "output_type": "stream",
          "name": "stdout",
          "text": [
            "Enter values separated by space: hamza huzaifa\n",
            "\n",
            "--- List Elements with Index and Data Type ---\n",
            "\n",
            "Index 0: Value = hamza   |   Data Type = str\n",
            "Index 1: Value = huzaifa   |   Data Type = str\n"
          ]
        }
      ]
    }
  ]
}