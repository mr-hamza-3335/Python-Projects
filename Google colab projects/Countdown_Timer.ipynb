{
  "nbformat": 4,
  "nbformat_minor": 0,
  "metadata": {
    "colab": {
      "provenance": []
    },
    "kernelspec": {
      "name": "python3",
      "display_name": "Python 3"
    },
    "language_info": {
      "name": "python"
    }
  },
  "cells": [
    {
      "cell_type": "code",
      "source": [
        "# Countdown Timer with Extra Features - Google Colab Version\n",
        "\n",
        "import time\n",
        "from IPython.display import clear_output\n",
        "import sys\n",
        "\n",
        "def countdown_timer():\n",
        "    # Step 1: User se input lena\n",
        "    try:\n",
        "        hours = int(input(\"Hours daaliye: \"))\n",
        "        minutes = int(input(\"Minutes daaliye: \"))\n",
        "        seconds = int(input(\"Seconds daaliye: \"))\n",
        "        total_seconds = hours * 3600 + minutes * 60 + seconds\n",
        "    except ValueError:\n",
        "        print(\"Invalid input! Please enter valid numbers.\")\n",
        "        return\n",
        "\n",
        "    # Step 2: Countdown logic\n",
        "    while total_seconds > 0:\n",
        "        # Convert total seconds into hours, minutes, and seconds\n",
        "        hrs, rem = divmod(total_seconds, 3600)\n",
        "        mins, secs = divmod(rem, 60)\n",
        "        timer = f\"{hrs:02d}:{mins:02d}:{secs:02d}\"  # Format as HH:MM:SS\n",
        "\n",
        "        # Progress bar calculation\n",
        "        progress = (total_seconds / (hours * 3600 + minutes * 60 + seconds)) * 100\n",
        "        progress_bar = \"[\" + \"=\" * int(progress / 5) + \" \" * (20 - int(progress / 5)) + \"]\"\n",
        "\n",
        "        # Display timer and progress bar\n",
        "        print(f\"Time Left: {timer}\")\n",
        "        print(f\"Progress: {progress_bar} {progress:.2f}%\")\n",
        "        print(\"\\nPress Ctrl+C to stop the timer.\")\n",
        "\n",
        "        # Wait for 1 second\n",
        "        time.sleep(1)\n",
        "\n",
        "        # Clear the previous output\n",
        "        clear_output(wait=True)\n",
        "\n",
        "        # Decrease the total seconds\n",
        "        total_seconds -= 1\n",
        "\n",
        "    # Step 3: Timer complete message and sound alert\n",
        "    print(\"Time's up! 🎉\")\n",
        "    print(\"\\a\")  # Play a sound alert (works in some environments)\n",
        "\n",
        "# Start the timer\n",
        "countdown_timer()"
      ],
      "metadata": {
        "colab": {
          "base_uri": "https://localhost:8080/"
        },
        "id": "CFjQT0tvfyCH",
        "outputId": "e4dd4982-25c9-4e43-d818-349e3c3a9567"
      },
      "execution_count": null,
      "outputs": [
        {
          "output_type": "stream",
          "name": "stdout",
          "text": [
            "Time's up! 🎉\n",
            "\u0007\n"
          ]
        }
      ]
    }
  ]
}