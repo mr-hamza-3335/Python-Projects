{
  "cells": [
    {
      "cell_type": "code",
      "execution_count": null,
      "metadata": {
        "colab": {
          "background_save": true,
          "base_uri": "https://localhost:8080/"
        },
        "id": "4giAxroAmzlj",
        "outputId": "3a765eb5-9d57-4a11-8da2-72ebe11ed594"
      },
      "outputs": [
        {
          "name": "stdout",
          "output_type": "stream",
          "text": [
            "Welcome to Hangman!\n",
            "Guess the word by entering one letter at a time.\n",
            "You have 6 attempts to guess the word.\n",
            "\n",
            "Word: ___________\n",
            "Oops! 'h' is not in the word. You have 5 attempts left.\n",
            "\n",
            "Word: ___________\n"
          ]
        }
      ],
      "source": [
        "# Hangman Game - Google Colab Version\n",
        "\n",
        "import random\n",
        "\n",
        "def hangman():\n",
        "    # List of words for the game\n",
        "    words = [\"python\", \"programming\", \"hangman\", \"developer\", \"algorithm\", \"computer\"]\n",
        "\n",
        "    # Step 1: Randomly select a word\n",
        "    word = random.choice(words)\n",
        "    guessed_letters = []\n",
        "    attempts = 6  # Number of attempts allowed\n",
        "\n",
        "    print(\"Welcome to Hangman!\")\n",
        "    print(\"Guess the word by entering one letter at a time.\")\n",
        "    print(f\"You have {attempts} attempts to guess the word.\")\n",
        "\n",
        "    # Step 2: Display the word with blanks\n",
        "    display_word = \"_\" * len(word)\n",
        "    print(f\"\\nWord: {display_word}\")\n",
        "\n",
        "    while attempts > 0:\n",
        "        # Step 3: Get user input\n",
        "        guess = input(\"\\nEnter a letter: \").lower()\n",
        "\n",
        "        # Check if the input is valid\n",
        "        if len(guess) != 1 or not guess.isalpha():\n",
        "            print(\"Invalid input! Please enter a single letter.\")\n",
        "            continue\n",
        "\n",
        "        # Check if the letter has already been guessed\n",
        "        if guess in guessed_letters:\n",
        "            print(\"You already guessed that letter. Try again.\")\n",
        "            continue\n",
        "\n",
        "        # Add the guessed letter to the list\n",
        "        guessed_letters.append(guess)\n",
        "\n",
        "        # Step 4: Check if the guessed letter is in the word\n",
        "        if guess in word:\n",
        "            print(f\"Good job! '{guess}' is in the word.\")\n",
        "        else:\n",
        "            attempts -= 1\n",
        "            print(f\"Oops! '{guess}' is not in the word. You have {attempts} attempts left.\")\n",
        "\n",
        "        # Step 5: Update the display word\n",
        "        display_word = \"\"\n",
        "        for letter in word:\n",
        "            if letter in guessed_letters:\n",
        "                display_word += letter\n",
        "            else:\n",
        "                display_word += \"_\"\n",
        "        print(f\"\\nWord: {display_word}\")\n",
        "\n",
        "        # Step 6: Check if the word has been fully guessed\n",
        "        if \"_\" not in display_word:\n",
        "            print(\"\\nCongratulations! You guessed the word correctly! 🎉\")\n",
        "            break\n",
        "\n",
        "    # Step 7: Game over condition\n",
        "    if attempts == 0:\n",
        "        print(f\"\\nGame over! 😔 The word was '{word}'. Better luck next time!\")\n",
        "\n",
        "    # Step 8: Play again option\n",
        "    play_again = input(\"\\nKya aap dobara khelna chahte hain? (haan/na): \").lower()\n",
        "    if play_again == \"haan\":\n",
        "        hangman()\n",
        "    else:\n",
        "        print(\"Dhanyavaad! Khelne ke liye.\")\n",
        "\n",
        "# Start the game\n",
        "hangman()"
      ]
    }
  ],
  "metadata": {
    "colab": {
      "provenance": []
    },
    "kernelspec": {
      "display_name": "Python 3",
      "name": "python3"
    },
    "language_info": {
      "name": "python"
    }
  },
  "nbformat": 4,
  "nbformat_minor": 0
}