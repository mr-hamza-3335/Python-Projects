{
  "nbformat": 4,
  "nbformat_minor": 0,
  "metadata": {
    "colab": {
      "provenance": []
    },
    "kernelspec": {
      "name": "python3",
      "display_name": "Python 3"
    },
    "language_info": {
      "name": "python"
    }
  },
  "cells": [
    {
      "cell_type": "code",
      "execution_count": 14,
      "metadata": {
        "id": "-VQhc5QwNqlO",
        "colab": {
          "base_uri": "https://localhost:8080/"
        },
        "outputId": "eb8ba54f-7a3e-4fb6-b25f-a039eee01e3f"
      },
      "outputs": [
        {
          "output_type": "stream",
          "name": "stdout",
          "text": [
            "\n",
            "🔸 Available start words:\n",
            "['I', 'love', 'coding', 'in', 'Python.', 'Python', 'is', 'a', 'fun', 'language.', 'Coding', 'projects', 'are', 'exciting.', 'Learning', 'makes', 'programming']\n",
            "\n",
            "Enter a start word from above list: is\n",
            "\n",
            "📝 Generated Text:\n",
            "\n",
            "is a fun language. Coding projects are exciting. Learning Python makes programming fun.\n"
          ]
        }
      ],
      "source": [
        "import random\n",
        "\n",
        "# Step 1: Sample Text\n",
        "sample_text = \"\"\"\n",
        "I love coding in Python.\n",
        "Python is a fun language.\n",
        "Coding projects are exciting.\n",
        "Learning Python makes programming fun.\n",
        "\"\"\"\n",
        "\n",
        "# Step 2: Tokenize Words\n",
        "words = sample_text.split()\n",
        "\n",
        "# Step 3: Markov Chain Dictionary\n",
        "markov_chain = {}\n",
        "for current_word, next_word in zip(words[:-1], words[1:]):\n",
        "    if current_word not in markov_chain:\n",
        "        markov_chain[current_word] = []\n",
        "    markov_chain[current_word].append(next_word)\n",
        "\n",
        "# Step 4: Show available start words\n",
        "print(\"\\n🔸 Available start words:\")\n",
        "print(list(markov_chain.keys()))\n",
        "\n",
        "# Step 5: Get start word from user\n",
        "start_word = input(\"\\nEnter a start word from above list: \")\n",
        "\n",
        "# Step 6: Generate text\n",
        "def generate_text(chain, start_word, length=20):\n",
        "    if start_word not in chain:\n",
        "        return \"❌ Start word not found in text!\"\n",
        "\n",
        "    word = start_word\n",
        "    result = [word]\n",
        "\n",
        "    for _ in range(length - 1):\n",
        "        next_words = chain.get(word)\n",
        "        if not next_words:\n",
        "            break\n",
        "        word = random.choice(next_words)\n",
        "        result.append(word)\n",
        "\n",
        "    return ' '.join(result)\n",
        "\n",
        "# Step 7: Output\n",
        "generated_text = generate_text(markov_chain, start_word, 30)\n",
        "print(\"\\n📝 Generated Text:\\n\")\n",
        "print(generated_text)\n"
      ]
    }
  ]
}