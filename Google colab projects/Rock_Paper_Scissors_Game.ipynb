{
  "cells": [
    {
      "cell_type": "code",
      "execution_count": null,
      "metadata": {
        "colab": {
          "background_save": true,
          "base_uri": "https://localhost:8080/"
        },
        "id": "9l221dbghc18",
        "outputId": "9c5ddc4a-c73d-46b4-a5b0-fcc8817d5aac"
      },
      "outputs": [
        {
          "name": "stdout",
          "output_type": "stream",
          "text": [
            "Welcome to Rock, Paper, Scissors!\n",
            "Rules: Rock beats Scissors, Scissors beats Paper, Paper beats Rock.\n",
            "\n",
            "Apka choice: Paper\n",
            "Computer ka choice: Scissors\n",
            "Oops! Aap hare. Computer jeet gaya. 😔\n",
            "Welcome to Rock, Paper, Scissors!\n",
            "Rules: Rock beats Scissors, Scissors beats Paper, Paper beats Rock.\n",
            "\n",
            "Apka choice: Rock\n",
            "Computer ka choice: Rock\n",
            "It's a tie!\n"
          ]
        }
      ],
      "source": [
        "# Rock, Paper, Scissors Game - Google Colab Version\n",
        "\n",
        "import random\n",
        "\n",
        "def play_game():\n",
        "    print(\"Welcome to Rock, Paper, Scissors!\")\n",
        "    print(\"Rules: Rock beats Scissors, Scissors beats Paper, Paper beats Rock.\")\n",
        "\n",
        "    # Step 1: User se input lena\n",
        "    user_choice = input(\"Apna choice daaliye (Rock, Paper, Scissors): \").strip().lower()\n",
        "    computer_choice = random.choice([\"rock\", \"paper\", \"scissors\"])\n",
        "\n",
        "    # Step 2: User aur computer ke choices display karna\n",
        "    print(f\"\\nApka choice: {user_choice.capitalize()}\")\n",
        "    print(f\"Computer ka choice: {computer_choice.capitalize()}\")\n",
        "\n",
        "    # Step 3: Game ka logic\n",
        "    if user_choice == computer_choice:\n",
        "        print(\"It's a tie!\")\n",
        "    elif (user_choice == \"rock\" and computer_choice == \"scissors\") or \\\n",
        "         (user_choice == \"scissors\" and computer_choice == \"paper\") or \\\n",
        "         (user_choice == \"paper\" and computer_choice == \"rock\"):\n",
        "        print(\"Badhai ho! Aap jeet gaye! 🎉\")\n",
        "    else:\n",
        "        print(\"Oops! Aap hare. Computer jeet gaya. 😔\")\n",
        "\n",
        "    # Step 4: Play again ka option\n",
        "    play_again = input(\"\\nKya aap dobara khelna chahte hain? (haan/na): \").strip().lower()\n",
        "    if play_again == \"haan\":\n",
        "        play_game()\n",
        "    else:\n",
        "        print(\"Dhanyavaad! Khelne ke liye.\")\n",
        "\n",
        "# Game start karo\n",
        "play_game()"
      ]
    }
  ],
  "metadata": {
    "colab": {
      "provenance": []
    },
    "kernelspec": {
      "display_name": "Python 3",
      "name": "python3"
    },
    "language_info": {
      "name": "python"
    }
  },
  "nbformat": 4,
  "nbformat_minor": 0
}