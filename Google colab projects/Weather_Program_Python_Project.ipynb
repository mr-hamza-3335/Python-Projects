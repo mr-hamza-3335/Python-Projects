{
  "nbformat": 4,
  "nbformat_minor": 0,
  "metadata": {
    "colab": {
      "provenance": []
    },
    "kernelspec": {
      "name": "python3",
      "display_name": "Python 3"
    },
    "language_info": {
      "name": "python"
    }
  },
  "cells": [
    {
      "cell_type": "code",
      "source": [
        "import requests\n",
        "\n",
        "# 📌 Step 1: Apni API key paste karo\n",
        "api_key = \"ce7a0b922cfb3e710ab57358e529191b\"  # <-- Replace with your API key\n",
        "\n",
        "# 📌 Step 2: Base URL\n",
        "base_url = \"https://api.openweathermap.org/data/2.5/weather?\"\n",
        "\n",
        "# 📌 Step 3: User se city ka naam lena\n",
        "city = input(\"🌍 Apna city name likho: \")\n",
        "\n",
        "# 📌 Step 4: Final URL banana\n",
        "full_url = base_url + \"q=\" + city + \"&appid=\" + api_key + \"&units=metric\"\n",
        "\n",
        "# 📌 Step 5: API se response lena\n",
        "try:\n",
        "    response = requests.get(full_url)\n",
        "    data = response.json()\n",
        "\n",
        "    # Check agar \"main\" key exist karti hai\n",
        "    if \"main\" in data:\n",
        "        temp = data[\"main\"][\"temp\"]\n",
        "        pressure = data[\"main\"][\"pressure\"]\n",
        "        humidity = data[\"main\"][\"humidity\"]\n",
        "        desc = data[\"weather\"][0][\"description\"]\n",
        "        wind = data[\"wind\"][\"speed\"]\n",
        "\n",
        "        print(\"\\n🌦 Weather Report for:\", city.upper())\n",
        "        print(\"-----------------------------\")\n",
        "        print(f\"🌡 Temperature  : {temp} °C\")\n",
        "        print(f\"💧 Humidity     : {humidity}%\")\n",
        "        print(f\"📈 Pressure     : {pressure} hPa\")\n",
        "        print(f\"🌬 Wind Speed   : {wind} m/s\")\n",
        "        print(f\"🌤 Description  : {desc.capitalize()}\")\n",
        "    else:\n",
        "        print(\"\\n❌ Koi problem hui hai. Shayad API key galat hai ya city name invalid hai.\")\n",
        "        print(\"🔍 API Response:\", data)\n",
        "\n",
        "except Exception as e:\n",
        "    print(\"❌ Error:\", e)\n"
      ],
      "metadata": {
        "colab": {
          "base_uri": "https://localhost:8080/"
        },
        "id": "CKmfpHlUqh5A",
        "outputId": "0b76d2a5-68c2-4c4b-c816-72e06507e7e5"
      },
      "execution_count": 20,
      "outputs": [
        {
          "output_type": "stream",
          "name": "stdout",
          "text": [
            "🌍 Apna city name likho: dubai\n",
            "\n",
            "🌦 Weather Report for: DUBAI\n",
            "-----------------------------\n",
            "🌡 Temperature  : 24.48 °C\n",
            "💧 Humidity     : 27%\n",
            "📈 Pressure     : 1012 hPa\n",
            "🌬 Wind Speed   : 3.39 m/s\n",
            "🌤 Description  : Clear sky\n"
          ]
        }
      ]
    }
  ]
}