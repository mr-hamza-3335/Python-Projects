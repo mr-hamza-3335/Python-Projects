{
  "cells": [
    {
      "cell_type": "code",
      "execution_count": null,
      "metadata": {
        "colab": {
          "background_save": true,
          "base_uri": "https://localhost:8080/"
        },
        "id": "cR1z2brvpLYS",
        "outputId": "923809af-ebcf-4219-d13a-ca717a51eb97"
      },
      "outputs": [
        {
          "name": "stdout",
          "output_type": "stream",
          "text": [
            "Mad Libs mein aapka swagat hai!\n"
          ]
        }
      ],
      "source": [
        "# Mad Libs Python Project\n",
        "\n",
        "# Step 1: User se input lena\n",
        "print(\"Mad Libs mein aapka swagat hai!\")\n",
        "adjective = input(\"Ek adjective daaliye (e.g., funny, silly): \")\n",
        "noun = input(\"Ek noun daaliye (e.g., dog, car): \")\n",
        "verb = input(\"Ek verb daaliye (e.g., run, dance): \")\n",
        "place = input(\"Ek place daaliye (e.g., park, school): \")\n",
        "animal = input(\"Ek animal daaliye (e.g., cat, elephant): \")\n",
        "\n",
        "# Step 2: Story banayiye\n",
        "story = f\"Ek baar ki baat hai, ek {adjective} {noun} tha jo roz {verb} karta tha. Ek din woh {place} gaya aur wahan ek {animal} se mila. Dono dost ban gaye aur khush rehne lage.\"\n",
        "\n",
        "# Step 3: Story print kijiye\n",
        "print(\"\\nAapki Mad Libs story:\\n\")\n",
        "print(story)"
      ]
    }
  ],
  "metadata": {
    "colab": {
      "provenance": []
    },
    "kernelspec": {
      "display_name": "Python 3",
      "name": "python3"
    },
    "language_info": {
      "name": "python"
    }
  },
  "nbformat": 4,
  "nbformat_minor": 0
}