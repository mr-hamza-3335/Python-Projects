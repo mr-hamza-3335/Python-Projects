{
  "cells": [
    {
      "cell_type": "code",
      "execution_count": null,
      "metadata": {
        "colab": {
          "background_save": true,
          "base_uri": "https://localhost:8080/"
        },
        "id": "hLyCw_hf_lL2",
        "outputId": "0665aa58-33da-4470-836a-01f776e015a2"
      },
      "outputs": [
        {
          "metadata": {
            "tags": null
          },
          "name": "stdout",
          "output_type": "stream",
          "text": [
            "Welcome to Tic-Tac-Toe!\n",
            "\n",
            "\n",
            "   |   |   \n",
            "-----------\n",
            "   |   |   \n",
            "-----------\n",
            "   |   |   \n",
            "\n",
            "\n"
          ]
        }
      ],
      "source": [
        "# Step 1: Game Board Display\n",
        "def display_board(board):\n",
        "    print(\"\\n\")\n",
        "    print(f\" {board[0]} | {board[1]} | {board[2]} \")\n",
        "    print(\"-----------\")\n",
        "    print(f\" {board[3]} | {board[4]} | {board[5]} \")\n",
        "    print(\"-----------\")\n",
        "    print(f\" {board[6]} | {board[7]} | {board[8]} \")\n",
        "    print(\"\\n\")\n",
        "\n",
        "# Step 2: Player Input\n",
        "def player_input(player, board):\n",
        "    while True:\n",
        "        try:\n",
        "            position = int(input(f\"Player {player}, enter your move (1-9): \")) - 1\n",
        "            if position >= 0 and position <= 8 and board[position] == \" \":\n",
        "                board[position] = player\n",
        "                break\n",
        "            else:\n",
        "                print(\"Invalid move! Try again.\")\n",
        "        except ValueError:\n",
        "            print(\"Please enter a valid number (1-9).\")\n",
        "\n",
        "# Step 3: Win Condition Check\n",
        "def check_win(board):\n",
        "    # Winning combinations\n",
        "    win_combinations = [\n",
        "        [0, 1, 2], [3, 4, 5], [6, 7, 8],\n",
        "        [0, 3, 6], [1, 4, 7], [2, 5, 8],\n",
        "        [0, 4, 8], [2, 4, 6]\n",
        "    ]\n",
        "    for combo in win_combinations:\n",
        "        if board[combo[0]] == board[combo[1]] == board[combo[2]] != \" \":\n",
        "            return True\n",
        "    return False\n",
        "\n",
        "# Step 4: Game Loop\n",
        "def tic_tac_toe():\n",
        "    # Initialize the board\n",
        "    board = [\" \"] * 9\n",
        "    players = [\"X\", \"O\"]\n",
        "    turn = 0\n",
        "\n",
        "    print(\"Welcome to Tic-Tac-Toe!\")\n",
        "    display_board(board)\n",
        "\n",
        "    while True:\n",
        "        # Current player\n",
        "        current_player = players[turn % 2]\n",
        "        player_input(current_player, board)\n",
        "        display_board(board)\n",
        "\n",
        "        # Check for win\n",
        "        if check_win(board):\n",
        "            print(f\"Player {current_player} wins!\")\n",
        "            break\n",
        "\n",
        "        # Check for draw\n",
        "        if \" \" not in board:\n",
        "            print(\"It's a draw!\")\n",
        "            break\n",
        "\n",
        "        # Next turn\n",
        "        turn += 1\n",
        "\n",
        "# Step 5: Run the Game\n",
        "tic_tac_toe()"
      ]
    }
  ],
  "metadata": {
    "colab": {
      "provenance": []
    },
    "kernelspec": {
      "display_name": "Python 3",
      "name": "python3"
    },
    "language_info": {
      "name": "python"
    }
  },
  "nbformat": 4,
  "nbformat_minor": 0
}